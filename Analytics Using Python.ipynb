{
 "cells": [
  {
   "cell_type": "code",
   "execution_count": 1,
   "id": "18baae3f",
   "metadata": {},
   "outputs": [
    {
     "name": "stderr",
     "output_type": "stream",
     "text": [
      "C:\\Users\\Ghostdog17\\AppData\\Local\\Temp\\ipykernel_4060\\1305773829.py:3: FutureWarning: The argument 'infer_datetime_format' is deprecated and will be removed in a future version. A strict version of it is now the default, see https://pandas.pydata.org/pdeps/0004-consistent-to-datetime-parsing.html. You can safely remove this argument.\n",
      "  df = pd.read_csv(\"UserGamesPlayed.csv\", parse_dates=[\"Datetime\"], infer_datetime_format=False)\n"
     ]
    }
   ],
   "source": [
    "import pandas as pd\n",
    "\n",
    "df = pd.read_csv(\"UserGamesPlayed.csv\", parse_dates=[\"Datetime\"], infer_datetime_format=False)"
   ]
  },
  {
   "cell_type": "code",
   "execution_count": 2,
   "id": "9fa4bf84",
   "metadata": {},
   "outputs": [
    {
     "name": "stdout",
     "output_type": "stream",
     "text": [
      "        User ID  Games Played          Datetime\n",
      "0           851             1   01-10-2022 0:00\n",
      "1           717             1   01-10-2022 0:00\n",
      "2           456             1   01-10-2022 0:00\n",
      "3           424             1   01-10-2022 0:00\n",
      "4           845             1   01-10-2022 0:00\n",
      "...         ...           ...               ...\n",
      "355261      658             1  31-10-2022 23:59\n",
      "355262      582             1  31-10-2022 23:59\n",
      "355263      272             1  31-10-2022 23:59\n",
      "355264      563             1  31-10-2022 23:59\n",
      "355265      289             1  31-10-2022 23:59\n",
      "\n",
      "[355266 rows x 3 columns]\n"
     ]
    }
   ],
   "source": [
    "print(df)"
   ]
  },
  {
   "cell_type": "code",
   "execution_count": 3,
   "id": "0a7bfac8",
   "metadata": {},
   "outputs": [],
   "source": [
    "df[\"Datetime\"] = pd.to_datetime(df[\"Datetime\"], format=\"%d-%m-%Y %H:%M\")"
   ]
  },
  {
   "cell_type": "code",
   "execution_count": 4,
   "id": "16d890ec",
   "metadata": {},
   "outputs": [
    {
     "name": "stdout",
     "output_type": "stream",
     "text": [
      "        User ID  Games Played            Datetime\n",
      "0           851             1 2022-10-01 00:00:00\n",
      "1           717             1 2022-10-01 00:00:00\n",
      "2           456             1 2022-10-01 00:00:00\n",
      "3           424             1 2022-10-01 00:00:00\n",
      "4           845             1 2022-10-01 00:00:00\n",
      "...         ...           ...                 ...\n",
      "355261      658             1 2022-10-31 23:59:00\n",
      "355262      582             1 2022-10-31 23:59:00\n",
      "355263      272             1 2022-10-31 23:59:00\n",
      "355264      563             1 2022-10-31 23:59:00\n",
      "355265      289             1 2022-10-31 23:59:00\n",
      "\n",
      "[355266 rows x 3 columns]\n"
     ]
    }
   ],
   "source": [
    "print(df)"
   ]
  },
  {
   "cell_type": "code",
   "execution_count": 5,
   "id": "19d28dfc",
   "metadata": {},
   "outputs": [],
   "source": [
    "#function to categorize into S1/S2 based on hour\n",
    "def categorize_time_slot(row):\n",
    "  hour = row[\"Datetime\"].hour\n",
    "  if hour >= 0 and hour < 12:\n",
    "    return \"S1\"\n",
    "  else:\n",
    "    return \"S2\"\n",
    "\n",
    "# new column 'Time Slot' for S1/S2 categorization\n",
    "df[\"Time Slot\"] = df.apply(categorize_time_slot, axis=1)\n",
    "df.rename(columns={\"User ID\": \"User Id\"}, inplace=True)\n",
    "\n",
    "# Filter data for S1 and S2 slots\n",
    "s1_df_ = df[df[\"Time Slot\"] == \"S1\"]\n",
    "s2_df_ = df[df[\"Time Slot\"] == \"S2\"]\n",
    "\n"
   ]
  },
  {
   "cell_type": "code",
   "execution_count": 6,
   "id": "0d801ad1",
   "metadata": {},
   "outputs": [
    {
     "name": "stdout",
     "output_type": "stream",
     "text": [
      "         Games Played\n",
      "User Id              \n",
      "0                  15\n",
      "1                   8\n",
      "2                  97\n",
      "3                  80\n",
      "4                   5\n",
      "5                 391\n",
      "6                  67\n",
      "7                  61\n",
      "8                 497\n",
      "9                3416\n"
     ]
    }
   ],
   "source": [
    "#Calculating number of gamesplayed by each user \n",
    "\n",
    "user_totalGames_df = df.groupby(\"User Id\")[\"Games Played\"].sum()\n",
    "\n",
    "user_totalGames = user_totalGames_df.to_frame('Games Played')\n",
    "\n",
    "print(user_totalGames.head(10))"
   ]
  },
  {
   "cell_type": "code",
   "execution_count": 7,
   "id": "37ad3e02",
   "metadata": {},
   "outputs": [
    {
     "name": "stdout",
     "output_type": "stream",
     "text": [
      "Index(['Games Played'], dtype='object')\n"
     ]
    }
   ],
   "source": [
    "print(user_totalGames.columns)"
   ]
  },
  {
   "cell_type": "code",
   "execution_count": 8,
   "id": "72984463",
   "metadata": {},
   "outputs": [],
   "source": [
    "df_deposit = pd.read_csv(\"Deposit.csv\")"
   ]
  },
  {
   "cell_type": "code",
   "execution_count": 9,
   "id": "31d53287",
   "metadata": {},
   "outputs": [
    {
     "name": "stdout",
     "output_type": "stream",
     "text": [
      "       User Id          Datetime  Amount\n",
      "0          357   01-10-2022 0:03    2000\n",
      "1          776   01-10-2022 0:03    2500\n",
      "2          492   01-10-2022 0:06    5000\n",
      "3          803   01-10-2022 0:07    5000\n",
      "4          875   01-10-2022 0:09    1500\n",
      "...        ...               ...     ...\n",
      "17433      654  31-10-2022 23:57    1200\n",
      "17434      980  31-10-2022 23:58     200\n",
      "17435        2  31-10-2022 23:58   40000\n",
      "17436      612  31-10-2022 23:58    2800\n",
      "17437      786  31-10-2022 23:59   20000\n",
      "\n",
      "[17438 rows x 3 columns]\n"
     ]
    }
   ],
   "source": [
    "print(df_deposit)"
   ]
  },
  {
   "cell_type": "code",
   "execution_count": 10,
   "id": "9a33eff6",
   "metadata": {},
   "outputs": [],
   "source": [
    "df_deposit[\"Datetime\"] = pd.to_datetime(df_deposit[\"Datetime\"], format=\"%d-%m-%Y %H:%M\")"
   ]
  },
  {
   "cell_type": "code",
   "execution_count": 11,
   "id": "ec2d2433",
   "metadata": {},
   "outputs": [
    {
     "name": "stdout",
     "output_type": "stream",
     "text": [
      "0       2022-10-01 00:03:00\n",
      "1       2022-10-01 00:03:00\n",
      "2       2022-10-01 00:06:00\n",
      "3       2022-10-01 00:07:00\n",
      "4       2022-10-01 00:09:00\n",
      "                ...        \n",
      "17433   2022-10-31 23:57:00\n",
      "17434   2022-10-31 23:58:00\n",
      "17435   2022-10-31 23:58:00\n",
      "17436   2022-10-31 23:58:00\n",
      "17437   2022-10-31 23:59:00\n",
      "Name: Datetime, Length: 17438, dtype: datetime64[ns]\n"
     ]
    }
   ],
   "source": [
    "print(df_deposit[\"Datetime\"])"
   ]
  },
  {
   "cell_type": "code",
   "execution_count": 12,
   "id": "3e24360d",
   "metadata": {},
   "outputs": [],
   "source": [
    "def categorize_time_slot(row):\n",
    "    hour = row[\"Datetime\"].hour\n",
    "    if hour >= 0 and hour < 12:\n",
    "        return \"S1\"\n",
    "    else:\n",
    "        return \"S2\"\n",
    "\n",
    "\n",
    "df_deposit[\"Time Slot\"] = df_deposit.apply(categorize_time_slot, axis=1)\n",
    "\n",
    "\n",
    "user_ids = range(0, 1000)  \n",
    "\n",
    "s1_df_deposit = df_deposit[df_deposit[\"Time Slot\"] == \"S1\"]\n",
    "s2_df_deposit = df_deposit[df_deposit[\"Time Slot\"] == \"S2\"]"
   ]
  },
  {
   "cell_type": "code",
   "execution_count": 13,
   "id": "efa49788",
   "metadata": {},
   "outputs": [
    {
     "name": "stdout",
     "output_type": "stream",
     "text": [
      "         depositCount  depositAmount\n",
      "User Id                             \n",
      "0                   0              0\n",
      "1                   1           5000\n",
      "2                  20         567000\n",
      "3                   4          40000\n",
      "4                   1           1750\n",
      "...               ...            ...\n",
      "995                 5          34500\n",
      "996                31          96400\n",
      "997                 0              0\n",
      "998                 5           7400\n",
      "999                 3           9000\n",
      "\n",
      "[1000 rows x 2 columns]\n"
     ]
    }
   ],
   "source": [
    "#Calculating total amount and count of deposits by each user \n",
    "\n",
    "user_totaldeposit_df = (\n",
    "    df_deposit.groupby(\"User Id\")\n",
    "    .agg(count=(\"Amount\", \"size\"), sum=(\"Amount\", \"sum\"))\n",
    "    .reset_index()\n",
    ")\n",
    "\n",
    "\n",
    "user_ids = set(range(0, 1000))  \n",
    "\n",
    "\n",
    "unique_user_ids = set(user_totaldeposit_df[\"User Id\"]).union(user_ids)\n",
    "\n",
    "\n",
    "user_totaldeposit = (\n",
    "    user_totaldeposit_df.set_index(\"User Id\")\n",
    "    .reindex(unique_user_ids, fill_value=0)\n",
    "    .rename(columns={\"count\": \"depositCount\", \"sum\": \"depositAmount\"})\n",
    ")\n",
    "\n",
    "print(user_totaldeposit)"
   ]
  },
  {
   "cell_type": "code",
   "execution_count": 14,
   "id": "1e74349c",
   "metadata": {},
   "outputs": [],
   "source": [
    "df_withdraw = pd.read_csv(\"Withdraw.csv\")"
   ]
  },
  {
   "cell_type": "code",
   "execution_count": 15,
   "id": "570ee296",
   "metadata": {},
   "outputs": [
    {
     "name": "stdout",
     "output_type": "stream",
     "text": [
      "      User Id          Datetime  Amount\n",
      "0         190   01-10-2022 0:03    5872\n",
      "1         159   01-10-2022 0:16    9540\n",
      "2         164   01-10-2022 0:24     815\n",
      "3         946   01-10-2022 0:29   23000\n",
      "4         763   01-10-2022 0:40    9473\n",
      "...       ...               ...     ...\n",
      "3561      559  31-10-2022 23:27    5000\n",
      "3562      407  31-10-2022 23:51    3000\n",
      "3563      389  31-10-2022 23:56   14481\n",
      "3564       11  31-10-2022 23:57    4000\n",
      "3565      112  31-10-2022 23:58    1604\n",
      "\n",
      "[3566 rows x 3 columns]\n"
     ]
    }
   ],
   "source": [
    "print(df_withdraw)"
   ]
  },
  {
   "cell_type": "code",
   "execution_count": 16,
   "id": "3b000161",
   "metadata": {},
   "outputs": [],
   "source": [
    "df_withdraw[\"Datetime\"] = pd.to_datetime(df_withdraw[\"Datetime\"], format=\"%d-%m-%Y %H:%M\")"
   ]
  },
  {
   "cell_type": "code",
   "execution_count": 17,
   "id": "38b48aab",
   "metadata": {},
   "outputs": [
    {
     "name": "stdout",
     "output_type": "stream",
     "text": [
      "      User Id            Datetime  Amount\n",
      "0         190 2022-10-01 00:03:00    5872\n",
      "1         159 2022-10-01 00:16:00    9540\n",
      "2         164 2022-10-01 00:24:00     815\n",
      "3         946 2022-10-01 00:29:00   23000\n",
      "4         763 2022-10-01 00:40:00    9473\n",
      "...       ...                 ...     ...\n",
      "3561      559 2022-10-31 23:27:00    5000\n",
      "3562      407 2022-10-31 23:51:00    3000\n",
      "3563      389 2022-10-31 23:56:00   14481\n",
      "3564       11 2022-10-31 23:57:00    4000\n",
      "3565      112 2022-10-31 23:58:00    1604\n",
      "\n",
      "[3566 rows x 3 columns]\n"
     ]
    }
   ],
   "source": [
    "print(df_withdraw)"
   ]
  },
  {
   "cell_type": "code",
   "execution_count": 18,
   "id": "19f5a092",
   "metadata": {},
   "outputs": [],
   "source": [
    "def categorize_time_slot(row):\n",
    "    hour = row[\"Datetime\"].hour\n",
    "    if hour >= 0 and hour < 12:\n",
    "        return \"S1\"\n",
    "    else:\n",
    "        return \"S2\"\n",
    "\n",
    "\n",
    "df_withdraw[\"Time Slot\"] = df_withdraw.apply(categorize_time_slot, axis=1)\n",
    "\n",
    "user_ids = range(0, 1000)  \n",
    "\n",
    "s1_df_withdraw = df_withdraw[df_withdraw[\"Time Slot\"] == \"S1\"]\n",
    "s2_df_withdraw = df_withdraw[df_withdraw[\"Time Slot\"] == \"S2\"]"
   ]
  },
  {
   "cell_type": "code",
   "execution_count": 19,
   "id": "3db821e5",
   "metadata": {},
   "outputs": [
    {
     "name": "stdout",
     "output_type": "stream",
     "text": [
      "         withdrawalCount  withdrawalAmount\n",
      "User Id                                   \n",
      "0                      0                 0\n",
      "1                      0                 0\n",
      "2                     20           1270215\n",
      "3                      0                 0\n",
      "4                      0                 0\n",
      "...                  ...               ...\n",
      "995                    0                 0\n",
      "996                    0                 0\n",
      "997                    0                 0\n",
      "998                    0                 0\n",
      "999                    0                 0\n",
      "\n",
      "[1000 rows x 2 columns]\n"
     ]
    }
   ],
   "source": [
    "#Calculating total withdraw amount and count of withdraw by each user \n",
    "\n",
    "user_totalwithdraw_df = (\n",
    "    df_withdraw.groupby(\"User Id\")\n",
    "    .agg(count=(\"Amount\", \"size\"), sum=(\"Amount\", \"sum\"))\n",
    "    .reset_index()\n",
    ")\n",
    "\n",
    "user_ids = set(range(0, 1000))  # Convert user_ids to a set\n",
    "\n",
    "unique_user_ids = set(user_totalwithdraw_df[\"User Id\"]).union(user_ids)\n",
    "\n",
    "print(\n",
    "    user_totalwithdraw_df.set_index(\"User Id\")\n",
    "    .reindex(unique_user_ids, fill_value=0)\n",
    "    .rename(\n",
    "        columns={\"count\": \"withdrawalCount\", \"sum\": \"withdrawalAmount\"}\n",
    "    )\n",
    ")"
   ]
  },
  {
   "cell_type": "code",
   "execution_count": 20,
   "id": "2c21a62c",
   "metadata": {},
   "outputs": [
    {
     "name": "stdout",
     "output_type": "stream",
     "text": [
      "     User Id  count      sum\n",
      "0          2     20  1270215\n",
      "1          5      9    32700\n",
      "2          7      1     6617\n",
      "3          9      9   171456\n",
      "4         11     24   101500\n",
      "..       ...    ...      ...\n",
      "509      980     36    87900\n",
      "510      985     19   155000\n",
      "511      987     23   135650\n",
      "512      989     20  1339000\n",
      "513      992     11   616278\n",
      "\n",
      "[514 rows x 3 columns]\n"
     ]
    }
   ],
   "source": [
    "print(user_totalwithdraw_df)"
   ]
  },
  {
   "cell_type": "code",
   "execution_count": 21,
   "id": "32334b22",
   "metadata": {},
   "outputs": [
    {
     "name": "stdout",
     "output_type": "stream",
     "text": [
      "\n",
      "** Category: S1 **\n",
      "Datetime  2022-10-01  2022-10-02  2022-10-03  2022-10-04  2022-10-05  \\\n",
      "User Id                                                                \n",
      "0                  0           0           0           0           0   \n",
      "1                  1           0           0           0           0   \n",
      "2                  2           2           2           1           1   \n",
      "3                  0           0           3           2           0   \n",
      "4                  0           0           0           0           0   \n",
      "...              ...         ...         ...         ...         ...   \n",
      "995                2           0           0           0           0   \n",
      "996                6          11           5           7          10   \n",
      "997                2           5           1           2           1   \n",
      "998                0           0           0           0           0   \n",
      "999                2           3           3           2           4   \n",
      "\n",
      "Datetime  2022-10-06  2022-10-07  2022-10-08  2022-10-09  2022-10-10  ...  \\\n",
      "User Id                                                               ...   \n",
      "0                  1           0           0           0           1  ...   \n",
      "1                  0           1           0           0           0  ...   \n",
      "2                  1           2           1           1           1  ...   \n",
      "3                  2           1           1           0           2  ...   \n",
      "4                  0           0           0           0           0  ...   \n",
      "...              ...         ...         ...         ...         ...  ...   \n",
      "995                1           0           0           0           0  ...   \n",
      "996                9           7           8           3           7  ...   \n",
      "997                2           3           1           0           0  ...   \n",
      "998                0           0           0           1           0  ...   \n",
      "999                3           1           0           0           3  ...   \n",
      "\n",
      "Datetime  2022-10-22  2022-10-23  2022-10-24  2022-10-25  2022-10-26  \\\n",
      "User Id                                                                \n",
      "0                  1           1           0           0           1   \n",
      "1                  0           0           0           0           0   \n",
      "2                  1           4           2           3           1   \n",
      "3                  1           2           0           2           3   \n",
      "4                  0           1           1           0           0   \n",
      "...              ...         ...         ...         ...         ...   \n",
      "995                0           0           0           0           1   \n",
      "996               12           6           8           9           5   \n",
      "997                3           1           4           2           4   \n",
      "998                0           0           0           0           0   \n",
      "999                2           1           2           0           3   \n",
      "\n",
      "Datetime  2022-10-27  2022-10-28  2022-10-29  2022-10-30  2022-10-31  \n",
      "User Id                                                               \n",
      "0                  0           1           1           0           0  \n",
      "1                  1           0           0           0           0  \n",
      "2                  1           2           0           0           1  \n",
      "3                  1           1           4           0           1  \n",
      "4                  0           0           1           0           0  \n",
      "...              ...         ...         ...         ...         ...  \n",
      "995                0           0           0           1           0  \n",
      "996                9           5           8           6          18  \n",
      "997                2           0           2           1           1  \n",
      "998                0           0           0           0           0  \n",
      "999                5           1           2           4           6  \n",
      "\n",
      "[1000 rows x 31 columns]\n",
      "\n",
      "** Category: S2 **\n",
      "Datetime  2022-10-01  2022-10-02  2022-10-03  2022-10-04  2022-10-05  \\\n",
      "User Id                                                                \n",
      "0                  0           0           0           1           1   \n",
      "1                  0           0           0           0           0   \n",
      "2                  1           4           0           1           2   \n",
      "3                  0           1           0           3           2   \n",
      "4                  0           0           0           0           0   \n",
      "...              ...         ...         ...         ...         ...   \n",
      "995                0           0           0           1           1   \n",
      "996                7          13           7          12           5   \n",
      "997                2           2           3           1           3   \n",
      "998                0           0           0           0           0   \n",
      "999                2           3           7           3           2   \n",
      "\n",
      "Datetime  2022-10-06  2022-10-07  2022-10-08  2022-10-09  2022-10-10  ...  \\\n",
      "User Id                                                               ...   \n",
      "0                  0           0           0           0           1  ...   \n",
      "1                  0           0           0           0           0  ...   \n",
      "2                  1           1           1           1           2  ...   \n",
      "3                  2           3           2           2           0  ...   \n",
      "4                  0           0           0           0           0  ...   \n",
      "...              ...         ...         ...         ...         ...  ...   \n",
      "995                0           0           0           1           0  ...   \n",
      "996                5           5           7           9          11  ...   \n",
      "997                1           2           3           0           2  ...   \n",
      "998                0           0           0           0           0  ...   \n",
      "999                1           5           5           2           3  ...   \n",
      "\n",
      "Datetime  2022-10-22  2022-10-23  2022-10-24  2022-10-25  2022-10-26  \\\n",
      "User Id                                                                \n",
      "0                  0           0           0           0           0   \n",
      "1                  0           0           0           0           0   \n",
      "2                  3           3           3           1           0   \n",
      "3                  0           2           1           1           0   \n",
      "4                  0           0           0           1           0   \n",
      "...              ...         ...         ...         ...         ...   \n",
      "995                1           2           0           0           1   \n",
      "996                8           6          10           2           4   \n",
      "997                3           2           1           0           2   \n",
      "998                0           0           0           0           0   \n",
      "999                2           0           3           4           1   \n",
      "\n",
      "Datetime  2022-10-27  2022-10-28  2022-10-29  2022-10-30  2022-10-31  \n",
      "User Id                                                               \n",
      "0                  0           0           0           0           0  \n",
      "1                  0           0           0           0           1  \n",
      "2                  3           0           0           1           2  \n",
      "3                  1           1           0           0           1  \n",
      "4                  0           0           0           0           0  \n",
      "...              ...         ...         ...         ...         ...  \n",
      "995                0           1           0           1           0  \n",
      "996               10          13           2           6           6  \n",
      "997                1           2           0           0           0  \n",
      "998                0           0           0           0           0  \n",
      "999                5           2           2           2           4  \n",
      "\n",
      "[1000 rows x 31 columns]\n"
     ]
    }
   ],
   "source": [
    "#Calculating number of gamesplayed by each user on each date\n",
    "\n",
    "s1_gamesPlayed_df = (\n",
    "    s1_df_.groupby([\"User Id\", s1_df_[\"Datetime\"].dt.date])[\"Games Played\"].sum()\n",
    "    .unstack(fill_value=0)  \n",
    "    .reindex(user_ids, fill_value=0)  \n",
    ")\n",
    "\n",
    "s2_gamesPlayed_df = (\n",
    "    s2_df_.groupby([\"User Id\", s2_df_[\"Datetime\"].dt.date])[\"Games Played\"].sum()\n",
    "    .unstack(fill_value=0)  \n",
    "    .reindex(user_ids, fill_value=0)  \n",
    ")\n",
    "\n",
    "\n",
    "print(f\"\\n** Category: S1 **\")\n",
    "print(s1_gamesPlayed_df)\n",
    "\n",
    "print(f\"\\n** Category: S2 **\")\n",
    "print(s2_gamesPlayed_df)\n"
   ]
  },
  {
   "cell_type": "code",
   "execution_count": 22,
   "id": "19f2a014",
   "metadata": {},
   "outputs": [
    {
     "name": "stdout",
     "output_type": "stream",
     "text": [
      "\n",
      "** 2nd October Slot S1 **\n",
      "2022-10-02\n"
     ]
    },
    {
     "name": "stderr",
     "output_type": "stream",
     "text": [
      "C:\\Users\\Ghostdog17\\AppData\\Local\\Temp\\ipykernel_4060\\35737964.py:73: FutureWarning: Setting an item of incompatible dtype is deprecated and will raise an error in a future version of pandas. Value '0.4' has dtype incompatible with int64, please explicitly cast to a compatible dtype first.\n",
      "  user_loyalty_points.loc[user_id, \"Loyalty Points\"] = loyalty_points\n"
     ]
    },
    {
     "name": "stdout",
     "output_type": "stream",
     "text": [
      "     Loyalty Points\n",
      "0               0.0\n",
      "1               0.0\n",
      "2               0.4\n",
      "3               0.0\n",
      "4               0.0\n",
      "..              ...\n",
      "995             0.0\n",
      "996             2.2\n",
      "997             1.0\n",
      "998             0.0\n",
      "999             0.6\n",
      "\n",
      "[1000 rows x 1 columns]\n",
      "\n",
      "** 16th October Slot S2 **\n",
      "2022-10-16\n"
     ]
    },
    {
     "name": "stderr",
     "output_type": "stream",
     "text": [
      "C:\\Users\\Ghostdog17\\AppData\\Local\\Temp\\ipykernel_4060\\35737964.py:73: FutureWarning: Setting an item of incompatible dtype is deprecated and will raise an error in a future version of pandas. Value '0.4' has dtype incompatible with int64, please explicitly cast to a compatible dtype first.\n",
      "  user_loyalty_points.loc[user_id, \"Loyalty Points\"] = loyalty_points\n"
     ]
    },
    {
     "name": "stdout",
     "output_type": "stream",
     "text": [
      "     Loyalty Points\n",
      "0               0.0\n",
      "1               0.0\n",
      "2               0.4\n",
      "3               0.0\n",
      "4               0.0\n",
      "..              ...\n",
      "995             0.0\n",
      "996             1.8\n",
      "997             0.0\n",
      "998             0.0\n",
      "999             0.2\n",
      "\n",
      "[1000 rows x 1 columns]\n",
      "\n",
      "** 18th October Slot S1 **\n",
      "2022-10-18\n"
     ]
    },
    {
     "name": "stderr",
     "output_type": "stream",
     "text": [
      "C:\\Users\\Ghostdog17\\AppData\\Local\\Temp\\ipykernel_4060\\35737964.py:73: FutureWarning: Setting an item of incompatible dtype is deprecated and will raise an error in a future version of pandas. Value '0.4' has dtype incompatible with int64, please explicitly cast to a compatible dtype first.\n",
      "  user_loyalty_points.loc[user_id, \"Loyalty Points\"] = loyalty_points\n"
     ]
    },
    {
     "name": "stdout",
     "output_type": "stream",
     "text": [
      "     Loyalty Points\n",
      "0             0.000\n",
      "1             0.000\n",
      "2             0.400\n",
      "3             0.400\n",
      "4             0.000\n",
      "..              ...\n",
      "995           0.000\n",
      "996           9.001\n",
      "997           0.200\n",
      "998           0.000\n",
      "999           0.400\n",
      "\n",
      "[1000 rows x 1 columns]\n",
      "\n",
      "** 26th October Slot S2 **\n",
      "2022-10-26\n"
     ]
    },
    {
     "name": "stderr",
     "output_type": "stream",
     "text": [
      "C:\\Users\\Ghostdog17\\AppData\\Local\\Temp\\ipykernel_4060\\35737964.py:73: FutureWarning: Setting an item of incompatible dtype is deprecated and will raise an error in a future version of pandas. Value '900.002' has dtype incompatible with int64, please explicitly cast to a compatible dtype first.\n",
      "  user_loyalty_points.loc[user_id, \"Loyalty Points\"] = loyalty_points\n"
     ]
    },
    {
     "name": "stdout",
     "output_type": "stream",
     "text": [
      "     Loyalty Points\n",
      "0             0.000\n",
      "1             0.000\n",
      "2           900.002\n",
      "3             0.000\n",
      "4             0.000\n",
      "..              ...\n",
      "995           0.200\n",
      "996           0.800\n",
      "997           0.400\n",
      "998           0.000\n",
      "999           0.200\n",
      "\n",
      "[1000 rows x 1 columns]\n"
     ]
    }
   ],
   "source": [
    "#Calculating Loyalty Bonus for specified dates and time slots\n",
    "\n",
    "time_slots = {\n",
    "  \"2nd October Slot S1\": pd.to_datetime(\"2022-10-02\").date(),\n",
    "  \"16th October Slot S2\": pd.to_datetime(\"2022-10-16\").date(),\n",
    "  \"18th October Slot S1\": pd.to_datetime(\"2022-10-18\").date(),\n",
    "  \"26th October Slot S2\": pd.to_datetime(\"2022-10-26\").date(),\n",
    "}\n",
    "\n",
    "slot_category = {\n",
    "  \"2nd October Slot S1\": \"S1\",\n",
    "  \"16th October Slot S2\": \"S2\",\n",
    "  \"18th October Slot S1\": \"S1\",\n",
    "  \"26th October Slot S2\": \"S2\",\n",
    "}\n",
    "\n",
    "for time_slot_name, time_slot_date, category in zip(time_slots, time_slots.values(), slot_category.values()):\n",
    "    print(f\"\\n** {time_slot_name} **\")\n",
    "    print(time_slot_date)\n",
    "    \n",
    "    all_possible_user_ids = set(range(0, 1000))\n",
    "    \n",
    "    if category == \"S1\":\n",
    "        filtered_df_ = s1_df_[s1_df_[\"Datetime\"].dt.date == time_slot_date]\n",
    "        filtered_df_deposit = s1_df_deposit[s1_df_deposit[\"Datetime\"].dt.date == time_slot_date]\n",
    "        filtered_df_withdraw = s1_df_withdraw[s1_df_withdraw[\"Datetime\"].dt.date == time_slot_date]\n",
    "    else:\n",
    "        filtered_df_ = s2_df_[s2_df_[\"Datetime\"].dt.date == time_slot_date]\n",
    "        filtered_df_deposit = s2_df_deposit[s2_df_deposit[\"Datetime\"].dt.date == time_slot_date]\n",
    "        filtered_df_withdraw = s2_df_withdraw[s2_df_withdraw[\"Datetime\"].dt.date == time_slot_date]\n",
    "\n",
    "    \n",
    "    existing_user_ids = set(filtered_df_[\"User Id\"].unique())\n",
    "    missing_user_ids = all_possible_user_ids - existing_user_ids\n",
    "    \n",
    "    user_loyalty_points = pd.DataFrame(index=list(all_possible_user_ids), columns=[\"Loyalty Points\"], data=0)\n",
    "\n",
    "    # Calculating loyalty points for each user:\n",
    "    for user_id in all_possible_user_ids:\n",
    "           \n",
    "        if category == \"S1\":\n",
    "            deposit_amount = s1_df_deposit[\n",
    "                (s1_df_deposit[\"User Id\"] == user_id) & (s1_df_deposit[\"Datetime\"].dt.date == time_slot_date)\n",
    "            ][\"Amount\"].sum()\n",
    "            withdrawal_amount = s1_df_withdraw[\n",
    "                (s1_df_withdraw[\"User Id\"] == user_id) & (s1_df_withdraw[\"Datetime\"].dt.date == time_slot_date)\n",
    "            ][\"Amount\"].sum()\n",
    "        else:\n",
    "            deposit_amount = s2_df_deposit[\n",
    "                (s2_df_deposit[\"User Id\"] == user_id) & (s2_df_deposit[\"Datetime\"].dt.date == time_slot_date)\n",
    "            ][\"Amount\"].sum()\n",
    "            withdrawal_amount = s2_df_withdraw[\n",
    "                (s2_df_withdraw[\"User Id\"] == user_id) & (s2_df_withdraw[\"Datetime\"].dt.date == time_slot_date)\n",
    "            ][\"Amount\"].sum()\n",
    "        \n",
    "        deposit_count = len(filtered_df_deposit[filtered_df_deposit[\"User Id\"] == user_id])  \n",
    "        withdrawal_count = len(filtered_df_withdraw[filtered_df_withdraw[\"User Id\"] == user_id])                   \n",
    "        \n",
    "        positive_diff = max(deposit_count - withdrawal_count, 0)\n",
    "        \n",
    "        games_played = (\n",
    "            s1_gamesPlayed_df.loc[user_id, time_slot_date]\n",
    "            if category == \"S1\" else s2_gamesPlayed_df.loc[user_id, time_slot_date]\n",
    "        )\n",
    "        \n",
    "        loyalty_points = (\n",
    "            0.01 * deposit_amount\n",
    "            + 0.005 * withdrawal_amount\n",
    "            + 0.001 * positive_diff\n",
    "            + 0.2 * games_played\n",
    "        )\n",
    "        \n",
    "        user_loyalty_points.loc[user_id, \"Loyalty Points\"] = loyalty_points\n",
    "    \n",
    "    print(user_loyalty_points)\n"
   ]
  },
  {
   "cell_type": "code",
   "execution_count": 23,
   "id": "912b2ad2",
   "metadata": {},
   "outputs": [
    {
     "name": "stdout",
     "output_type": "stream",
     "text": [
      "   User Id  Games Played  depositCount  depositAmount  count        sum\n",
      "0        0            15             0              0    0.0        0.0\n",
      "1        1             8             1           5000    0.0        0.0\n",
      "2        2            97            20         567000   20.0  1270215.0\n",
      "3        3            80             4          40000    0.0        0.0\n",
      "4        4             5             1           1750    0.0        0.0\n",
      "5        5           391            67          74100    9.0    32700.0\n",
      "6        6            67             7           9300    0.0        0.0\n",
      "7        7            61             0              0    1.0     6617.0\n",
      "8        8           497             0              0    0.0        0.0\n",
      "9        9          3416           109         193684    9.0   171456.0\n"
     ]
    }
   ],
   "source": [
    "# Calculating Loyalty Points for the entrie month\n",
    "\n",
    "deposit_factor = 0.01\n",
    "withdrawal_factor = 0.005\n",
    "games_played_factor = 0.2\n",
    "positive_diff_factor = 0.001  \n",
    "\n",
    "user_data = user_totalGames.merge(user_totaldeposit, on=\"User Id\", how=\"left\")\n",
    "user_data = user_data.merge(user_totalwithdraw_df, on=\"User Id\", how=\"left\")\n",
    "\n",
    "user_data.fillna(0, inplace=True)\n",
    "\n",
    "print(user_data.head(10))"
   ]
  },
  {
   "cell_type": "code",
   "execution_count": 24,
   "id": "81186c6f",
   "metadata": {},
   "outputs": [
    {
     "name": "stdout",
     "output_type": "stream",
     "text": [
      "     User Id  Games Played  depositCount  depositAmount  count        sum  \\\n",
      "0          0            15             0              0    0.0        0.0   \n",
      "1          1             8             1           5000    0.0        0.0   \n",
      "2          2            97            20         567000   20.0  1270215.0   \n",
      "3          3            80             4          40000    0.0        0.0   \n",
      "4          4             5             1           1750    0.0        0.0   \n",
      "..       ...           ...           ...            ...    ...        ...   \n",
      "995      995            18             5          34500    0.0        0.0   \n",
      "996      996           474            31          96400    0.0        0.0   \n",
      "997      997           109             0              0    0.0        0.0   \n",
      "998      998             4             5           7400    0.0        0.0   \n",
      "999      999           174             3           9000    0.0        0.0   \n",
      "\n",
      "     positiveDiff  loyaltyPoints  \n",
      "0             0.0          3.000  \n",
      "1             1.0         51.601  \n",
      "2             0.0      12040.475  \n",
      "3             4.0        416.004  \n",
      "4             1.0         18.501  \n",
      "..            ...            ...  \n",
      "995           5.0        348.605  \n",
      "996          31.0       1058.831  \n",
      "997           0.0         21.800  \n",
      "998           5.0         74.805  \n",
      "999           3.0        124.803  \n",
      "\n",
      "[1000 rows x 8 columns]\n"
     ]
    }
   ],
   "source": [
    "user_data[\"positiveDiff\"] = user_data[\"depositCount\"] - user_data[\"count\"]\n",
    "user_data[\"positiveDiff\"] = user_data[\"positiveDiff\"].apply(lambda x: max(x, 0))  \n",
    "\n",
    "# Calculating overall loyalty points\n",
    "user_data[\"loyaltyPoints\"] = (\n",
    "    user_data[\"depositAmount\"] * deposit_factor\n",
    "    + user_data[\"sum\"] * withdrawal_factor\n",
    "    + user_data[\"Games Played\"] * games_played_factor\n",
    "    + user_data[\"positiveDiff\"] * positive_diff_factor\n",
    ")\n",
    "\n",
    "print(user_data)"
   ]
  },
  {
   "cell_type": "code",
   "execution_count": 25,
   "id": "2f06a935",
   "metadata": {},
   "outputs": [
    {
     "name": "stdout",
     "output_type": "stream",
     "text": [
      "     User Id  Games Played  depositCount  depositAmount  count         sum  \\\n",
      "634      634            24             8         515000   67.0  15737705.0   \n",
      "99        99            10            47        1164800   15.0   2403141.0   \n",
      "672      672            10            35        2158700    5.0    233750.0   \n",
      "212      212             1            26        1924981    4.0    589850.0   \n",
      "740      740             2            91        1738490    7.0    365288.0   \n",
      "..       ...           ...           ...            ...    ...         ...   \n",
      "643      643             2             0              0    0.0         0.0   \n",
      "857      857             2             0              0    0.0         0.0   \n",
      "858      858             2             0              0    0.0         0.0   \n",
      "993      993             2             0              0    0.0         0.0   \n",
      "38        38             1             0              0    0.0         0.0   \n",
      "\n",
      "     positiveDiff  loyaltyPoints  \n",
      "634           0.0      83843.325  \n",
      "99           32.0      23665.737  \n",
      "672          30.0      22757.780  \n",
      "212          22.0      22199.282  \n",
      "740          84.0      19211.824  \n",
      "..            ...            ...  \n",
      "643           0.0          0.400  \n",
      "857           0.0          0.400  \n",
      "858           0.0          0.400  \n",
      "993           0.0          0.400  \n",
      "38            0.0          0.200  \n",
      "\n",
      "[1000 rows x 8 columns]\n"
     ]
    }
   ],
   "source": [
    "# Sorting user_data by loyalty points (descending) and breaking ties using games played (ascending)\n",
    "\n",
    "sorted_user_data = user_data.sort_values(by=[\"loyaltyPoints\", \"Games Played\"], ascending=[False, True])\n",
    "\n",
    "print(sorted_user_data)"
   ]
  },
  {
   "cell_type": "code",
   "execution_count": 26,
   "id": "979e0338",
   "metadata": {},
   "outputs": [],
   "source": [
    "#Mean Deposit Amount\n",
    "\n",
    "meanDepositAmount = user_data[\"depositAmount\"].mean()"
   ]
  },
  {
   "cell_type": "code",
   "execution_count": 27,
   "id": "3f46ef11",
   "metadata": {},
   "outputs": [
    {
     "name": "stdout",
     "output_type": "stream",
     "text": [
      "95772.729\n"
     ]
    }
   ],
   "source": [
    "print(meanDepositAmount)"
   ]
  },
  {
   "cell_type": "code",
   "execution_count": 28,
   "id": "de582b6f",
   "metadata": {},
   "outputs": [
    {
     "name": "stdout",
     "output_type": "stream",
     "text": [
      "         Games Played  Average_Number_Of_Games_Played\n",
      "User Id                                              \n",
      "0                  15                        0.483871\n",
      "1                   8                        0.258065\n",
      "2                  97                        3.129032\n",
      "3                  80                        2.580645\n",
      "4                   5                        0.161290\n",
      "...               ...                             ...\n",
      "995                18                        0.580645\n",
      "996               474                       15.290323\n",
      "997               109                        3.516129\n",
      "998                 4                        0.129032\n",
      "999               174                        5.612903\n",
      "\n",
      "[1000 rows x 2 columns]\n"
     ]
    }
   ],
   "source": [
    "#Average number of games played per user\n",
    "\n",
    "divisor = 31\n",
    "\n",
    "user_avgGames = user_totalGames.assign(Average_Number_Of_Games_Played=user_totalGames[\"Games Played\"] / divisor)\n",
    "\n",
    "print(user_avgGames)"
   ]
  },
  {
   "cell_type": "code",
   "execution_count": 29,
   "id": "abae8f10",
   "metadata": {},
   "outputs": [
    {
     "name": "stdout",
     "output_type": "stream",
     "text": [
      "         depositCount  depositAmount  Average_Deposit_Amount\n",
      "User Id                                                     \n",
      "0                   0              0                0.000000\n",
      "1                   1           5000              161.290323\n",
      "2                  20         567000            18290.322581\n",
      "3                   4          40000             1290.322581\n",
      "4                   1           1750               56.451613\n",
      "...               ...            ...                     ...\n",
      "995                 5          34500             1112.903226\n",
      "996                31          96400             3109.677419\n",
      "997                 0              0                0.000000\n",
      "998                 5           7400              238.709677\n",
      "999                 3           9000              290.322581\n",
      "\n",
      "[1000 rows x 3 columns]\n"
     ]
    }
   ],
   "source": [
    "#Average deposit amount per user\n",
    "\n",
    "user_avgDeposit = user_totaldeposit.assign(Average_Deposit_Amount=user_totaldeposit[\"depositAmount\"] / divisor)\n",
    "\n",
    "print(user_avgDeposit)"
   ]
  },
  {
   "cell_type": "code",
   "execution_count": 30,
   "id": "c7407c10",
   "metadata": {},
   "outputs": [
    {
     "name": "stdout",
     "output_type": "stream",
     "text": [
      "     User Id  Games Played  depositCount  depositAmount  count         sum  \\\n",
      "634      634            24             8         515000   67.0  15737705.0   \n",
      "99        99            10            47        1164800   15.0   2403141.0   \n",
      "672      672            10            35        2158700    5.0    233750.0   \n",
      "212      212             1            26        1924981    4.0    589850.0   \n",
      "740      740             2            91        1738490    7.0    365288.0   \n",
      "566      566           183            53        1819175    3.0    185071.0   \n",
      "714      714             6            34        1676300    0.0         0.0   \n",
      "421      421          1557            99         878600   84.0   1269809.0   \n",
      "369      369            37            13         650000    9.0   1586208.0   \n",
      "30        30            13            51        1329000    1.0    152145.0   \n",
      "587      587           734            89         671700    8.0   1355000.0   \n",
      "222      222            10            16        1285000    3.0     99358.0   \n",
      "352      352           313           128        1083034    8.0    429518.0   \n",
      "365      365          3667            10         311000   33.0   1802335.0   \n",
      "920      920           932            41         367700   52.0   1734480.0   \n",
      "162      162             2             7          68320   23.0   2360000.0   \n",
      "415      415            26             6         350000    6.0   1759843.0   \n",
      "569      569            38            23        1227780    0.0         0.0   \n",
      "786      786             7            27         661500   11.0   1096160.0   \n",
      "2          2            97            20         567000   20.0   1270215.0   \n",
      "238      238           899            45         923400    7.0    445000.0   \n",
      "992      992          2483            18         804978   11.0    616278.0   \n",
      "28        28            37            49        1061500    0.0         0.0   \n",
      "538      538            29            27        1025000    1.0      8558.0   \n",
      "208      208           507            35         644934    9.0    657928.0   \n",
      "989      989          3471            12         240000   20.0   1339000.0   \n",
      "978      978            74            69         794358   14.0    288114.0   \n",
      "915      915             8            84         780028    7.0    307609.0   \n",
      "678      678            12            22         379000    1.0   1100000.0   \n",
      "78        78           602            32         159000   47.0   1484900.0   \n",
      "909      909             1           125         679745    5.0    454060.0   \n",
      "182      182          2446            16         795000    4.0     80339.0   \n",
      "93        93           487            76         616000   24.0    511474.0   \n",
      "200      200             4             8         539998    5.0    593000.0   \n",
      "259      259           126           115         824020    0.0         0.0   \n",
      "306      306             4            57         826000    0.0         0.0   \n",
      "344      344             3            18         311900   10.0   1024000.0   \n",
      "601      601            33            23         692144    1.0    240000.0   \n",
      "515      515           413            14         580000    6.0    400000.0   \n",
      "294      294             5            41         607700    3.0    311187.0   \n",
      "681      681             8            65         689000    1.0    132000.0   \n",
      "950      950             4            99         732000    4.0     35500.0   \n",
      "675      675           639            50         662500    1.0     70000.0   \n",
      "663      663          6401            52         425000   35.0    290200.0   \n",
      "438      438             1             2         400000    1.0    594851.0   \n",
      "619      619             2            13         697000    0.0         0.0   \n",
      "245      245             3            25         209450   10.0    912200.0   \n",
      "547      547          1248            41         493200   14.0    245863.0   \n",
      "612      612          1543            53         554800    8.0    109081.0   \n",
      "949      949             1            64         409100    7.0    434171.0   \n",
      "\n",
      "     positiveDiff  loyaltyPoints  \n",
      "634           0.0      83843.325  \n",
      "99           32.0      23665.737  \n",
      "672          30.0      22757.780  \n",
      "212          22.0      22199.282  \n",
      "740          84.0      19211.824  \n",
      "566          50.0      19153.755  \n",
      "714          34.0      16764.234  \n",
      "421          15.0      15446.460  \n",
      "369           4.0      14438.444  \n",
      "30           50.0      14053.375  \n",
      "587          81.0      13638.881  \n",
      "222          13.0      13348.803  \n",
      "352         120.0      13040.650  \n",
      "365           0.0      12855.075  \n",
      "920           0.0      12535.800  \n",
      "162           0.0      12483.600  \n",
      "415           0.0      12304.415  \n",
      "569          23.0      12285.423  \n",
      "786          16.0      12097.216  \n",
      "2             0.0      12040.475  \n",
      "238          38.0      11638.838  \n",
      "992           7.0      11627.777  \n",
      "28           49.0      10622.449  \n",
      "538          26.0      10298.616  \n",
      "208          26.0       9840.406  \n",
      "989           0.0       9789.200  \n",
      "978          55.0       9399.005  \n",
      "915          77.0       9340.002  \n",
      "678          21.0       9292.421  \n",
      "78            0.0       9134.900  \n",
      "909         120.0       9068.070  \n",
      "182          12.0       8840.907  \n",
      "93           52.0       8814.822  \n",
      "200           3.0       8365.783  \n",
      "259         115.0       8265.515  \n",
      "306          57.0       8260.857  \n",
      "344           8.0       8239.608  \n",
      "601          22.0       8128.062  \n",
      "515           8.0       7882.608  \n",
      "294          38.0       7633.973  \n",
      "681          64.0       7551.664  \n",
      "950          95.0       7498.395  \n",
      "675          49.0       7102.849  \n",
      "663          17.0       6981.217  \n",
      "438           1.0       6974.456  \n",
      "619          13.0       6970.413  \n",
      "245          15.0       6656.115  \n",
      "547          27.0       6410.942  \n",
      "612          45.0       6402.050  \n",
      "949          57.0       6262.112  \n"
     ]
    }
   ],
   "source": [
    "#top 50 players on loyalty points leaderboard\n",
    "\n",
    "print(sorted_user_data.head(50))\n"
   ]
  },
  {
   "cell_type": "code",
   "execution_count": null,
   "id": "dce92816",
   "metadata": {},
   "outputs": [],
   "source": []
  }
 ],
 "metadata": {
  "kernelspec": {
   "display_name": "Python 3 (ipykernel)",
   "language": "python",
   "name": "python3"
  },
  "language_info": {
   "codemirror_mode": {
    "name": "ipython",
    "version": 3
   },
   "file_extension": ".py",
   "mimetype": "text/x-python",
   "name": "python",
   "nbconvert_exporter": "python",
   "pygments_lexer": "ipython3",
   "version": "3.9.18"
  }
 },
 "nbformat": 4,
 "nbformat_minor": 5
}
